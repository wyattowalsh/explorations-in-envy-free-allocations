{
 "cells": [
  {
   "cell_type": "markdown",
   "metadata": {},
   "source": [
    "# <center> IEOR 169 Final Project: Data Generation and Exploration </center>\n",
    "# <center> Team: Chris Landgrebe, Calvin Suster, Wyatt Walsh </center>"
   ]
  },
  {
   "cell_type": "markdown",
   "metadata": {
    "toc": true
   },
   "source": [
    "<h1>Table of Contents<span class=\"tocSkip\"></span></h1>\n",
    "<div class=\"toc\"><ul class=\"toc-item\"><li><span><a href=\"#Data-Generation\" data-toc-modified-id=\"Data-Generation-1\">Data Generation</a></span><ul class=\"toc-item\"><li><span><a href=\"#Step-1:-Imports-and-Environment-Considerations\" data-toc-modified-id=\"Step-1:-Imports-and-Environment-Considerations-1.1\">Step 1: Imports and Environment Considerations</a></span></li><li><span><a href=\"#Step-2:-Define-Generator-Function\" data-toc-modified-id=\"Step-2:-Define-Generator-Function-1.2\">Step 2: Define Generator Function</a></span></li><li><span><a href=\"#Step-3:-Define-Set-of-Person/Object-Combinations-and-Apply-Generator\" data-toc-modified-id=\"Step-3:-Define-Set-of-Person/Object-Combinations-and-Apply-Generator-1.3\">Step 3: Define Set of Person/Object Combinations and Apply Generator</a></span></li><li><span><a href=\"#Step-1:-Load-in-Data-and-View\" data-toc-modified-id=\"Step-1:-Load-in-Data-and-View-1.4\">Step 1: Load in Data and View</a></span></li></ul></li></ul></div>"
   ]
  },
  {
   "cell_type": "markdown",
   "metadata": {},
   "source": [
    "## Data Generation"
   ]
  },
  {
   "cell_type": "markdown",
   "metadata": {},
   "source": [
    "### Step 1: Imports and Environment Considerations"
   ]
  },
  {
   "cell_type": "code",
   "execution_count": 12,
   "metadata": {
    "ExecuteTime": {
     "end_time": "2020-04-24T03:23:42.425520Z",
     "start_time": "2020-04-24T03:23:42.421668Z"
    }
   },
   "outputs": [],
   "source": [
    "# import necessary libraries\n",
    "import numpy as np\n",
    "import pandas as pd\n",
    "import os\n",
    "from IPython.display import display\n",
    "from math import *"
   ]
  },
  {
   "cell_type": "markdown",
   "metadata": {},
   "source": [
    "### Step 2: Define Generator Function"
   ]
  },
  {
   "cell_type": "code",
   "execution_count": 6,
   "metadata": {
    "ExecuteTime": {
     "end_time": "2020-04-24T02:34:25.707590Z",
     "start_time": "2020-04-24T02:34:25.692174Z"
    }
   },
   "outputs": [],
   "source": [
    "def synthesize(sizes):\n",
    "    '''This function takes in row of a dataframe that contains three columns:\n",
    "    1. the index associated with that row'\n",
    "    2. the number of objects for this particular dataset\n",
    "    3. the number of people for this particular dataset\n",
    "    These parameters are then used to generate a matrix of Uniform[0,1] r.v.s of whic is then massaged into\n",
    "    a compatible .dat format for use in AMPL'''\n",
    "    # set random seed for reproducibility\n",
    "    np.random.seed(18)\n",
    "    # create r.v. matrix of size len(people) by len(objects) then normalize\n",
    "    ## normalization in this case takes the form of dividing rows by their respective sums\n",
    "    grid = np.random.uniform(0,1,(sizes[1:]))\n",
    "    normed = grid/np.sum(grid,1)[:,None]\n",
    "    \n",
    "    # create df with columns whose values correspond with the indice of the value from the original matrix\n",
    "    df = pd.DataFrame(normed).reset_index()\n",
    "\n",
    "    # add 1 to all variables so that the ranges start from 1\n",
    "    df.iloc[:,0] = df.iloc[:,0].astype('int32') + 1\n",
    "    \n",
    "    # move columns for correct AMPL reading\n",
    "    columns = ['p', *range(1,sizes[2]+1)]\n",
    "    df.columns = columns \n",
    "    \n",
    "    # get index of current row for use in file naming\n",
    "    name = './data/generated/' +  str(sizes[0]) + '.dat'\n",
    "    # generate the sets for people and objects given their size\n",
    "    people = ' '.join([str(i) for i in range(1,sizes[1]+1)])\n",
    "    items = ' '.join([str(i) for i in range(1,sizes[2]+1)])\n",
    "    \n",
    "    # since np.savetxt will be used, bundle all other information in the header\n",
    "    header = 'data; \\nset P := %s; \\n' % people\n",
    "    header += 'set I := %s;' % items\n",
    "    header += '\\nparam v : '\n",
    "    header += items + ':='\n",
    "    \n",
    "    types = ['%i'] + (['%f'] * sizes[2])\n",
    "    # save df values space separated under header\n",
    "    np.savetxt(name,df.values, fmt = types, header = header, comments = '')\n",
    "    \n",
    "    # add final semicolon and close file\n",
    "    file = open(name, 'a')\n",
    "    file.write('\\n ;')\n",
    "    file.close()"
   ]
  },
  {
   "cell_type": "code",
   "execution_count": 46,
   "metadata": {
    "ExecuteTime": {
     "end_time": "2020-04-24T04:33:46.904630Z",
     "start_time": "2020-04-24T04:33:46.889857Z"
    }
   },
   "outputs": [],
   "source": [
    "def synthesize_cash(sizes):\n",
    "    '''This function takes in row of a dataframe that contains three columns:\n",
    "    1. the index associated with that row'\n",
    "    2. the number of objects for this particular dataset\n",
    "    3. the number of people for this particular dataset\n",
    "    These parameters are then used to generate a matrix of Uniform[0,1] r.v.s of whic is then massaged into\n",
    "    a compatible .dat format for use in AMPL'''\n",
    "    # set random seed for reproducibility\n",
    "    np.random.seed(18)\n",
    "    # create r.v. matrix of size len(people) by len(objects) then normalize\n",
    "    ## normalization in this case takes the form of dividing rows by their respective sums\n",
    "    grid = np.random.uniform(0,1,(sizes[1:3]))\n",
    "    \n",
    "    # create df with columns whose values correspond with the indice of the value from the original matrix\n",
    "    df = pd.DataFrame(grid).reset_index()\n",
    "    \n",
    "    # add 1 to all variables so that the ranges start from 1\n",
    "    df.iloc[:,0] = df.iloc[:,0].astype('int32') + 1\n",
    "    \n",
    "    # move columns for correct AMPL reading\n",
    "    columns = ['p', *range(1,sizes[2]+1)]\n",
    "    df.columns = columns \n",
    "    \n",
    "    # get index of current row for use in file naming\n",
    "    name = './data/generated/' +  str(sizes[0]) + '.dat'\n",
    "    # generate the sets for people and objects given their size\n",
    "    people = ' '.join([str(i) for i in range(1,sizes[1]+1)])\n",
    "    items = ' '.join([str(i) for i in range(1,sizes[2]+1)])\n",
    "    \n",
    "    # since np.savetxt will be used, bundle all other information in the header\n",
    "    header = 'data; \\nset P := %s; \\n' % people\n",
    "    header += 'set I := %s;' % items\n",
    "    header += '\\nparam c := %s;' % sizes[3]\n",
    "    header += '\\nparam v : '\n",
    "    header += items + ':='\n",
    "    \n",
    "    types = ['%i'] + (['%f'] * sizes[2])\n",
    "    # save df values space separated under header\n",
    "    np.savetxt(name,df.values, fmt = types, header = header, comments = '')\n",
    "    \n",
    "    # add final semicolon and close file\n",
    "    file = open(name, 'a')\n",
    "    file.write('\\n ;')\n",
    "    file.close()"
   ]
  },
  {
   "cell_type": "markdown",
   "metadata": {},
   "source": [
    "### Step 3: Define Set of Person/Object Combinations and Apply Generator"
   ]
  },
  {
   "cell_type": "code",
   "execution_count": 49,
   "metadata": {
    "ExecuteTime": {
     "end_time": "2020-04-24T04:39:04.557327Z",
     "start_time": "2020-04-24T04:39:04.550832Z"
    }
   },
   "outputs": [],
   "source": [
    "# define range of values to combine\n",
    "## linear spacing is utilized until 160, then a log spacing is used since order of magnitude is more important\n",
    "# values = np.append(np.array([5,10,20,40,80,160]), np.geomspace(320, 5120, 14, dtype = int))\n",
    "cash = ' '.join([str(i) for i in np.linspace(0,3,25)])\n",
    "# create df from meshed value ranges.\n",
    "# ## must take transpose of meshgrid and reshape in order for output to be .dat file ready\n",
    "file = open('./data/generated/cash.dat', 'w')\n",
    "file.write('data; \\nparam C := %s;' % cash) \n",
    "file.close()\n",
    "# # apply generator function to remaining rows \n",
    "# sizes.apply(synthesize, axis = 1) # !!! line 17 is commmented out since the data already exists !!!"
   ]
  },
  {
   "cell_type": "code",
   "execution_count": 53,
   "metadata": {
    "ExecuteTime": {
     "end_time": "2020-04-24T04:46:36.292600Z",
     "start_time": "2020-04-24T04:46:36.276070Z"
    }
   },
   "outputs": [
    {
     "data": {
      "text/html": [
       "<div>\n",
       "<style scoped>\n",
       "    .dataframe tbody tr th:only-of-type {\n",
       "        vertical-align: middle;\n",
       "    }\n",
       "\n",
       "    .dataframe tbody tr th {\n",
       "        vertical-align: top;\n",
       "    }\n",
       "\n",
       "    .dataframe thead th {\n",
       "        text-align: right;\n",
       "    }\n",
       "</style>\n",
       "<table border=\"1\" class=\"dataframe\">\n",
       "  <thead>\n",
       "    <tr style=\"text-align: right;\">\n",
       "      <th></th>\n",
       "      <th>fileNum</th>\n",
       "      <th>numPeople</th>\n",
       "      <th>numItems</th>\n",
       "    </tr>\n",
       "  </thead>\n",
       "  <tbody>\n",
       "    <tr>\n",
       "      <th>0</th>\n",
       "      <td>1</td>\n",
       "      <td>5</td>\n",
       "      <td>5</td>\n",
       "    </tr>\n",
       "    <tr>\n",
       "      <th>1</th>\n",
       "      <td>2</td>\n",
       "      <td>5</td>\n",
       "      <td>15</td>\n",
       "    </tr>\n",
       "    <tr>\n",
       "      <th>2</th>\n",
       "      <td>3</td>\n",
       "      <td>5</td>\n",
       "      <td>25</td>\n",
       "    </tr>\n",
       "    <tr>\n",
       "      <th>3</th>\n",
       "      <td>4</td>\n",
       "      <td>5</td>\n",
       "      <td>35</td>\n",
       "    </tr>\n",
       "    <tr>\n",
       "      <th>4</th>\n",
       "      <td>5</td>\n",
       "      <td>5</td>\n",
       "      <td>45</td>\n",
       "    </tr>\n",
       "    <tr>\n",
       "      <th>...</th>\n",
       "      <td>...</td>\n",
       "      <td>...</td>\n",
       "      <td>...</td>\n",
       "    </tr>\n",
       "    <tr>\n",
       "      <th>248</th>\n",
       "      <td>249</td>\n",
       "      <td>4000</td>\n",
       "      <td>5000</td>\n",
       "    </tr>\n",
       "    <tr>\n",
       "      <th>249</th>\n",
       "      <td>250</td>\n",
       "      <td>4000</td>\n",
       "      <td>10000</td>\n",
       "    </tr>\n",
       "    <tr>\n",
       "      <th>250</th>\n",
       "      <td>251</td>\n",
       "      <td>5000</td>\n",
       "      <td>5000</td>\n",
       "    </tr>\n",
       "    <tr>\n",
       "      <th>251</th>\n",
       "      <td>252</td>\n",
       "      <td>5000</td>\n",
       "      <td>10000</td>\n",
       "    </tr>\n",
       "    <tr>\n",
       "      <th>252</th>\n",
       "      <td>253</td>\n",
       "      <td>10000</td>\n",
       "      <td>10000</td>\n",
       "    </tr>\n",
       "  </tbody>\n",
       "</table>\n",
       "<p>253 rows × 3 columns</p>\n",
       "</div>"
      ],
      "text/plain": [
       "     fileNum  numPeople  numItems\n",
       "0          1          5         5\n",
       "1          2          5        15\n",
       "2          3          5        25\n",
       "3          4          5        35\n",
       "4          5          5        45\n",
       "..       ...        ...       ...\n",
       "248      249       4000      5000\n",
       "249      250       4000     10000\n",
       "250      251       5000      5000\n",
       "251      252       5000     10000\n",
       "252      253      10000     10000\n",
       "\n",
       "[253 rows x 3 columns]"
      ]
     },
     "metadata": {},
     "output_type": "display_data"
    }
   ],
   "source": [
    "# define range of values to combine\n",
    "## linear spacing is utilized until 160, then a log spacing is used since order of magnitude is more important\n",
    "# values = np.append(np.array([5,10,20,40,80,160]), np.geomspace(320, 5120, 14, dtype = int))\n",
    "values = [*range(5, 100,10), *range(100,250,50), *range(250, 1001, 250), *range(2000, 5001, 1000), 10000]\n",
    "\n",
    "# create df from meshed value ranges.\n",
    "# ## must take transpose of meshgrid and reshape in order for output to be .dat file ready\n",
    "sizes = pd.DataFrame(np.array(np.meshgrid(values,values)).T.reshape(-1,2))\n",
    "\n",
    "# # remove any rows where there are more people than objects since min p will always be 1\n",
    "sizes = sizes.loc[sizes[0] <= sizes[1],:].reset_index(drop=True).reset_index()\n",
    "columns = ['fileNum', 'numPeople', 'numItems']\n",
    "sizes.columns = columns\n",
    "\n",
    "# # add 1 to index so that row sets start at 1 and display resultant df\n",
    "sizes['fileNum'] = sizes['fileNum'] + 1\n",
    "display(sizes)\n",
    "\n",
    "# # apply generator function to remaining rows \n",
    "# sizes.apply(synthesize, axis = 1) # !!! line 17 is commmented out since the data already exists !!!"
   ]
  },
  {
   "cell_type": "markdown",
   "metadata": {},
   "source": [
    "### Step 1: Load in Data and View"
   ]
  },
  {
   "cell_type": "code",
   "execution_count": null,
   "metadata": {},
   "outputs": [],
   "source": [
    "df = pd.read_csv('./data/output/full.txt')\n",
    "df"
   ]
  },
  {
   "cell_type": "code",
   "execution_count": null,
   "metadata": {},
   "outputs": [],
   "source": []
  }
 ],
 "metadata": {
  "kernelspec": {
   "display_name": "Python 3",
   "language": "python",
   "name": "python3"
  },
  "language_info": {
   "codemirror_mode": {
    "name": "ipython",
    "version": 3
   },
   "file_extension": ".py",
   "mimetype": "text/x-python",
   "name": "python",
   "nbconvert_exporter": "python",
   "pygments_lexer": "ipython3",
   "version": "3.8.2"
  },
  "latex_envs": {
   "LaTeX_envs_menu_present": true,
   "autoclose": true,
   "autocomplete": true,
   "bibliofile": "biblio.bib",
   "cite_by": "apalike",
   "current_citInitial": 1,
   "eqLabelWithNumbers": true,
   "eqNumInitial": 1,
   "hotkeys": {
    "equation": "Ctrl-E",
    "itemize": "Ctrl-I"
   },
   "labels_anchors": false,
   "latex_user_defs": false,
   "report_style_numbering": false,
   "user_envs_cfg": false
  },
  "toc": {
   "base_numbering": 1,
   "nav_menu": {},
   "number_sections": false,
   "sideBar": true,
   "skip_h1_title": true,
   "title_cell": "Table of Contents",
   "title_sidebar": "Contents",
   "toc_cell": true,
   "toc_position": {},
   "toc_section_display": true,
   "toc_window_display": true
  }
 },
 "nbformat": 4,
 "nbformat_minor": 4
}
