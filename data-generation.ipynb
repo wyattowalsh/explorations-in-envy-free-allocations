{
 "cells": [
  {
   "cell_type": "markdown",
   "metadata": {},
   "source": [
    "# <center> IEOR 169 Final Project: Data Generation and Exploration </center>\n",
    "# <center> Team: Chris Landgrebe, Calvin Suster, Wyatt Walsh </center>"
   ]
  },
  {
   "cell_type": "markdown",
   "metadata": {
    "toc": true
   },
   "source": [
    "<h1>Table of Contents<span class=\"tocSkip\"></span></h1>\n",
    "<div class=\"toc\"><ul class=\"toc-item\"><li><span><a href=\"#Data-Generation\" data-toc-modified-id=\"Data-Generation-1\">Data Generation</a></span><ul class=\"toc-item\"><li><span><a href=\"#Step-1:-Imports-and-Environment-Considerations\" data-toc-modified-id=\"Step-1:-Imports-and-Environment-Considerations-1.1\">Step 1: Imports and Environment Considerations</a></span></li><li><span><a href=\"#Step-2:-Define-Generator-Function\" data-toc-modified-id=\"Step-2:-Define-Generator-Function-1.2\">Step 2: Define Generator Function</a></span></li><li><span><a href=\"#Step-3:-Define-Set-of-Person/Object-Combinations-and-Apply-Generator\" data-toc-modified-id=\"Step-3:-Define-Set-of-Person/Object-Combinations-and-Apply-Generator-1.3\">Step 3: Define Set of Person/Object Combinations and Apply Generator</a></span></li></ul></li><li><span><a href=\"#Model-Output-Exploration-and-Analysis\" data-toc-modified-id=\"Model-Output-Exploration-and-Analysis-2\">Model Output Exploration and Analysis</a></span><ul class=\"toc-item\"><li><span><a href=\"#Step-1:-Load-in-Data-and-View\" data-toc-modified-id=\"Step-1:-Load-in-Data-and-View-2.1\">Step 1: Load in Data and View</a></span></li></ul></li></ul></div>"
   ]
  },
  {
   "cell_type": "markdown",
   "metadata": {},
   "source": [
    "## Data Generation"
   ]
  },
  {
   "cell_type": "markdown",
   "metadata": {},
   "source": [
    "### Step 1: Imports and Environment Considerations"
   ]
  },
  {
   "cell_type": "code",
   "execution_count": 52,
   "metadata": {
    "ExecuteTime": {
     "end_time": "2020-04-19T23:11:42.876139Z",
     "start_time": "2020-04-19T23:11:42.872981Z"
    }
   },
   "outputs": [],
   "source": [
    "# import necessary libraries\n",
    "import numpy as np\n",
    "import pandas as pd\n",
    "import os\n",
    "from IPython.display import display\n",
    "# set random seed for reproducibility\n",
    "np.random.seed(18)"
   ]
  },
  {
   "cell_type": "markdown",
   "metadata": {},
   "source": [
    "### Step 2: Define Generator Function"
   ]
  },
  {
   "cell_type": "code",
   "execution_count": 53,
   "metadata": {
    "ExecuteTime": {
     "end_time": "2020-04-19T23:11:44.008578Z",
     "start_time": "2020-04-19T23:11:44.000091Z"
    }
   },
   "outputs": [],
   "source": [
    "def synthesize(sizes):\n",
    "    '''This function takes in row of a dataframe that contains three columns:\n",
    "    1. the index associated with that row'\n",
    "    2. the number of objects for this particular dataset\n",
    "    3. the number of people for this particular dataset\n",
    "    These parameters are then used to generate a matrix of Uniform[0,1] r.v.s of whic is then massaged into\n",
    "    a compatible .dat format for use in AMPL'''\n",
    "    \n",
    "    # create r.v. matrix of size len(people) by len(objects) then normalize\n",
    "    ## normalization in this case takes the form of dividing rows by their respective sums\n",
    "    grid = np.random.uniform(0,1,(sizes[1:]))\n",
    "    normed = grid/np.sum(grid,axis=0)\n",
    "    \n",
    "    # create df with columns whose values correspond with the indice of the value from the original matrix\n",
    "    df = pd.DataFrame(normed).unstack().reset_index()\n",
    "    \n",
    "    # add 1 to all variables so that the ranges start from 1\n",
    "    df.iloc[:,0:2] = df.iloc[:,0:2] + 1\n",
    "    \n",
    "    # move columns for correct AMPL reading\n",
    "    columns_titles = ['level_1', 'level_0', 0]\n",
    "    df = df.reindex(columns=columns_titles)\n",
    "    \n",
    "    # get index of current row for use in file naming\n",
    "    index = sizes['index']\n",
    "    name = './data/generated/' +  str(index) +'.dat'\n",
    "    [str(i) for i in range(1,500)]\n",
    "    # generate the sets for people and objects given their size\n",
    "    people = ' '.join([str(i) for i in range(1,sizes[0]+1)])\n",
    "    objects = ' '.join([str(i) for i in range(1,sizes[1]+1)])\n",
    "    \n",
    "    # since np.savetxt will be used, bundle all other information in the header\n",
    "    header = 'data; \\nset people := %s; \\n' % people\n",
    "    header += 'set objects := %s; \\n' % objects\n",
    "    header += 'param numObjects := %d; \\nparam numPeople := %d; \\nparam v := ' % (sizes[1],sizes[0])\n",
    "    \n",
    "    # save df values space separated under header\n",
    "    np.savetxt(name,df.values,fmt=['%i','%i', '%f'], header = header, comments = '')\n",
    "    \n",
    "    # add final semicolon and close file\n",
    "    file = open(name, 'a')\n",
    "    file.write('\\n ;')\n",
    "    file.close()"
   ]
  },
  {
   "cell_type": "markdown",
   "metadata": {},
   "source": [
    "### Step 3: Define Set of Person/Object Combinations and Apply Generator"
   ]
  },
  {
   "cell_type": "code",
   "execution_count": 54,
   "metadata": {
    "ExecuteTime": {
     "end_time": "2020-04-19T23:25:12.095300Z",
     "start_time": "2020-04-19T23:11:45.801089Z"
    }
   },
   "outputs": [
    {
     "data": {
      "text/html": [
       "<div>\n",
       "<style scoped>\n",
       "    .dataframe tbody tr th:only-of-type {\n",
       "        vertical-align: middle;\n",
       "    }\n",
       "\n",
       "    .dataframe tbody tr th {\n",
       "        vertical-align: top;\n",
       "    }\n",
       "\n",
       "    .dataframe thead th {\n",
       "        text-align: right;\n",
       "    }\n",
       "</style>\n",
       "<table border=\"1\" class=\"dataframe\">\n",
       "  <thead>\n",
       "    <tr style=\"text-align: right;\">\n",
       "      <th></th>\n",
       "      <th>index</th>\n",
       "      <th>0</th>\n",
       "      <th>1</th>\n",
       "    </tr>\n",
       "  </thead>\n",
       "  <tbody>\n",
       "    <tr>\n",
       "      <th>0</th>\n",
       "      <td>1</td>\n",
       "      <td>5</td>\n",
       "      <td>5</td>\n",
       "    </tr>\n",
       "    <tr>\n",
       "      <th>1</th>\n",
       "      <td>2</td>\n",
       "      <td>5</td>\n",
       "      <td>10</td>\n",
       "    </tr>\n",
       "    <tr>\n",
       "      <th>2</th>\n",
       "      <td>3</td>\n",
       "      <td>5</td>\n",
       "      <td>20</td>\n",
       "    </tr>\n",
       "    <tr>\n",
       "      <th>3</th>\n",
       "      <td>4</td>\n",
       "      <td>5</td>\n",
       "      <td>40</td>\n",
       "    </tr>\n",
       "    <tr>\n",
       "      <th>4</th>\n",
       "      <td>5</td>\n",
       "      <td>5</td>\n",
       "      <td>80</td>\n",
       "    </tr>\n",
       "    <tr>\n",
       "      <th>...</th>\n",
       "      <td>...</td>\n",
       "      <td>...</td>\n",
       "      <td>...</td>\n",
       "    </tr>\n",
       "    <tr>\n",
       "      <th>205</th>\n",
       "      <td>206</td>\n",
       "      <td>3342</td>\n",
       "      <td>4136</td>\n",
       "    </tr>\n",
       "    <tr>\n",
       "      <th>206</th>\n",
       "      <td>207</td>\n",
       "      <td>3342</td>\n",
       "      <td>5120</td>\n",
       "    </tr>\n",
       "    <tr>\n",
       "      <th>207</th>\n",
       "      <td>208</td>\n",
       "      <td>4136</td>\n",
       "      <td>4136</td>\n",
       "    </tr>\n",
       "    <tr>\n",
       "      <th>208</th>\n",
       "      <td>209</td>\n",
       "      <td>4136</td>\n",
       "      <td>5120</td>\n",
       "    </tr>\n",
       "    <tr>\n",
       "      <th>209</th>\n",
       "      <td>210</td>\n",
       "      <td>5120</td>\n",
       "      <td>5120</td>\n",
       "    </tr>\n",
       "  </tbody>\n",
       "</table>\n",
       "<p>210 rows × 3 columns</p>\n",
       "</div>"
      ],
      "text/plain": [
       "     index     0     1\n",
       "0        1     5     5\n",
       "1        2     5    10\n",
       "2        3     5    20\n",
       "3        4     5    40\n",
       "4        5     5    80\n",
       "..     ...   ...   ...\n",
       "205    206  3342  4136\n",
       "206    207  3342  5120\n",
       "207    208  4136  4136\n",
       "208    209  4136  5120\n",
       "209    210  5120  5120\n",
       "\n",
       "[210 rows x 3 columns]"
      ]
     },
     "metadata": {},
     "output_type": "display_data"
    },
    {
     "data": {
      "text/plain": [
       "0      None\n",
       "1      None\n",
       "2      None\n",
       "3      None\n",
       "4      None\n",
       "       ... \n",
       "205    None\n",
       "206    None\n",
       "207    None\n",
       "208    None\n",
       "209    None\n",
       "Length: 210, dtype: object"
      ]
     },
     "execution_count": 54,
     "metadata": {},
     "output_type": "execute_result"
    }
   ],
   "source": [
    "# define range of values to combine\n",
    "## linear spacing is utilized until 160, then a log spacing is used since order of magnitude is more important\n",
    "values = np.append(np.array([5,10,20,40,80,160]), np.geomspace(320, 5120, 14, dtype = int))\n",
    "\n",
    "# create df from meshed value ranges.\n",
    "## must take transpose of meshgrid and reshape in order for output to be .dat file ready\n",
    "sizes = pd.DataFrame(np.array(np.meshgrid(values,values)).T.reshape(-1,2))\n",
    "\n",
    "# remove any rows where there are more people than objects since min p will always be 1\n",
    "sizes = sizes.loc[sizes[0] <= sizes[1],:].reset_index(drop=True).reset_index()\n",
    "\n",
    "# add 1 to index so that row sets start at 1 and display resultant df\n",
    "sizes.iloc[:,0] = sizes.iloc[:,0] + 1\n",
    "display(sizes)\n",
    "\n",
    "#apply generator function to remaining rows \n",
    "# sizes.apply(synthesize, axis = 1) # !!! line 17 is commmented out since the data already exists !!!"
   ]
  },
  {
   "cell_type": "markdown",
   "metadata": {
    "ExecuteTime": {
     "end_time": "2020-04-19T18:20:21.923890Z",
     "start_time": "2020-04-19T18:20:21.920426Z"
    }
   },
   "source": [
    "## Model Output Exploration and Analysis"
   ]
  },
  {
   "cell_type": "markdown",
   "metadata": {},
   "source": [
    "### Step 1: Load in Data and View"
   ]
  },
  {
   "cell_type": "code",
   "execution_count": 34,
   "metadata": {
    "ExecuteTime": {
     "end_time": "2020-04-19T22:42:10.504442Z",
     "start_time": "2020-04-19T22:42:10.484616Z"
    }
   },
   "outputs": [
    {
     "data": {
      "text/html": [
       "<div>\n",
       "<style scoped>\n",
       "    .dataframe tbody tr th:only-of-type {\n",
       "        vertical-align: middle;\n",
       "    }\n",
       "\n",
       "    .dataframe tbody tr th {\n",
       "        vertical-align: top;\n",
       "    }\n",
       "\n",
       "    .dataframe thead th {\n",
       "        text-align: right;\n",
       "    }\n",
       "</style>\n",
       "<table border=\"1\" class=\"dataframe\">\n",
       "  <thead>\n",
       "    <tr style=\"text-align: right;\">\n",
       "      <th></th>\n",
       "      <th>p</th>\n",
       "      <th>solveTime</th>\n",
       "      <th>numObjects</th>\n",
       "      <th>numPeople</th>\n",
       "    </tr>\n",
       "  </thead>\n",
       "  <tbody>\n",
       "    <tr>\n",
       "      <th>0</th>\n",
       "      <td>0.565334</td>\n",
       "      <td>0.202304</td>\n",
       "      <td>5</td>\n",
       "      <td>5</td>\n",
       "    </tr>\n",
       "    <tr>\n",
       "      <th>1</th>\n",
       "      <td>0.000000</td>\n",
       "      <td>0.345113</td>\n",
       "      <td>10</td>\n",
       "      <td>5</td>\n",
       "    </tr>\n",
       "    <tr>\n",
       "      <th>2</th>\n",
       "      <td>0.000000</td>\n",
       "      <td>0.488031</td>\n",
       "      <td>20</td>\n",
       "      <td>5</td>\n",
       "    </tr>\n",
       "    <tr>\n",
       "      <th>3</th>\n",
       "      <td>0.000000</td>\n",
       "      <td>0.560822</td>\n",
       "      <td>40</td>\n",
       "      <td>5</td>\n",
       "    </tr>\n",
       "    <tr>\n",
       "      <th>4</th>\n",
       "      <td>0.000000</td>\n",
       "      <td>0.584507</td>\n",
       "      <td>80</td>\n",
       "      <td>5</td>\n",
       "    </tr>\n",
       "  </tbody>\n",
       "</table>\n",
       "</div>"
      ],
      "text/plain": [
       "          p   solveTime   numObjects   numPeople\n",
       "0  0.565334    0.202304            5           5\n",
       "1  0.000000    0.345113           10           5\n",
       "2  0.000000    0.488031           20           5\n",
       "3  0.000000    0.560822           40           5\n",
       "4  0.000000    0.584507           80           5"
      ]
     },
     "execution_count": 34,
     "metadata": {},
     "output_type": "execute_result"
    }
   ],
   "source": [
    "df = pd.read_csv('./data/output/full.txt')\n",
    "df"
   ]
  },
  {
   "cell_type": "code",
   "execution_count": 43,
   "metadata": {
    "ExecuteTime": {
     "end_time": "2020-04-19T22:54:58.953814Z",
     "start_time": "2020-04-19T22:54:58.949431Z"
    }
   },
   "outputs": [
    {
     "data": {
      "text/plain": [
       "'1 2 3 4 5 6 7 8 9 10 11 12 13 14 15 16 17 18 19 20 21 22 23 24 25 26 27 28 29 30 31 32 33 34 35 36 37 38 39 40 41 42 43 44 45 46 47 48 49 50 51 52 53 54 55 56 57 58 59 60 61 62 63 64 65 66 67 68 69 70 71 72 73 74 75 76 77 78 79 80 81 82 83 84 85 86 87 88 89 90 91 92 93 94 95 96 97 98 99 100 101 102 103 104 105 106 107 108 109 110 111 112 113 114 115 116 117 118 119 120 121 122 123 124 125 126 127 128 129 130 131 132 133 134 135 136 137 138 139 140 141 142 143 144 145 146 147 148 149 150 151 152 153 154 155 156 157 158 159 160 161 162 163 164 165 166 167 168 169 170 171 172 173 174 175 176 177 178 179 180 181 182 183 184 185 186 187 188 189 190 191 192 193 194 195 196 197 198 199 200 201 202 203 204 205 206 207 208 209 210 211 212 213 214 215 216 217 218 219 220 221 222 223 224 225 226 227 228 229 230 231 232 233 234 235 236 237 238 239 240 241 242 243 244 245 246 247 248 249 250 251 252 253 254 255 256 257 258 259 260 261 262 263 264 265 266 267 268 269 270 271 272 273 274 275 276 277 278 279 280 281 282 283 284 285 286 287 288 289 290 291 292 293 294 295 296 297 298 299 300 301 302 303 304 305 306 307 308 309 310 311 312 313 314 315 316 317 318 319 320 321 322 323 324 325 326 327 328 329 330 331 332 333 334 335 336 337 338 339 340 341 342 343 344 345 346 347 348 349 350 351 352 353 354 355 356 357 358 359 360 361 362 363 364 365 366 367 368 369 370 371 372 373 374 375 376 377 378 379 380 381 382 383 384 385 386 387 388 389 390 391 392 393 394 395 396 397 398 399 400 401 402 403 404 405 406 407 408 409 410 411 412 413 414 415 416 417 418 419 420 421 422 423 424 425 426 427 428 429 430 431 432 433 434 435 436 437 438 439 440 441 442 443 444 445 446 447 448 449 450 451 452 453 454 455 456 457 458 459 460 461 462 463 464 465 466 467 468 469 470 471 472 473 474 475 476 477 478 479 480 481 482 483 484 485 486 487 488 489 490 491 492 493 494 495 496 497 498 499'"
      ]
     },
     "execution_count": 43,
     "metadata": {},
     "output_type": "execute_result"
    }
   ],
   "source": [
    "x = [str(i) for i in range(1,500)]\n",
    "' '.join(x)"
   ]
  },
  {
   "cell_type": "code",
   "execution_count": null,
   "metadata": {},
   "outputs": [],
   "source": []
  }
 ],
 "metadata": {
  "kernelspec": {
   "display_name": "Python 3",
   "language": "python",
   "name": "python3"
  },
  "language_info": {
   "codemirror_mode": {
    "name": "ipython",
    "version": 3
   },
   "file_extension": ".py",
   "mimetype": "text/x-python",
   "name": "python",
   "nbconvert_exporter": "python",
   "pygments_lexer": "ipython3",
   "version": "3.7.7"
  },
  "latex_envs": {
   "LaTeX_envs_menu_present": true,
   "autoclose": true,
   "autocomplete": true,
   "bibliofile": "biblio.bib",
   "cite_by": "apalike",
   "current_citInitial": 1,
   "eqLabelWithNumbers": true,
   "eqNumInitial": 1,
   "hotkeys": {
    "equation": "Ctrl-E",
    "itemize": "Ctrl-I"
   },
   "labels_anchors": false,
   "latex_user_defs": false,
   "report_style_numbering": false,
   "user_envs_cfg": false
  },
  "toc": {
   "base_numbering": 1,
   "nav_menu": {},
   "number_sections": false,
   "sideBar": true,
   "skip_h1_title": true,
   "title_cell": "Table of Contents",
   "title_sidebar": "Contents",
   "toc_cell": true,
   "toc_position": {},
   "toc_section_display": true,
   "toc_window_display": true
  }
 },
 "nbformat": 4,
 "nbformat_minor": 4
}
