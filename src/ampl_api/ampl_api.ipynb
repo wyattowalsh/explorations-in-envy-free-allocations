{
 "cells": [
  {
   "cell_type": "code",
   "execution_count": 68,
   "metadata": {
    "ExecuteTime": {
     "end_time": "2020-05-01T18:29:10.293784Z",
     "start_time": "2020-05-01T18:29:10.277204Z"
    }
   },
   "outputs": [],
   "source": [
    "import pandas as pd\n",
    "import numpy as np\n",
    "import amplpy\n",
    "\n",
    "from amplpy import AMPL, Environment, DataFrame\n",
    "ampl = AMPL(Environment('/Users/chrislandgrebe/Desktop/ampl_macosx64'))\n",
    "\n",
    "\n",
    "largerData_path ='/Users/chrislandgrebe/Desktop/PROJECT/ieor-169-project/src/q1/q1.mod'\n",
    "model_path = '/Users/chrislandgrebe/Desktop/PROJECT/ieor-169-project/data/input/larger.dat'"
   ]
  },
  {
   "cell_type": "code",
   "execution_count": 125,
   "metadata": {
    "ExecuteTime": {
     "end_time": "2020-05-01T18:53:41.279844Z",
     "start_time": "2020-05-01T18:53:41.247659Z"
    }
   },
   "outputs": [
    {
     "name": "stdout",
     "output_type": "stream",
     "text": [
      "CPLEX 12.9.0.0: timelimit=900\n"
     ]
    }
   ],
   "source": [
    "ampl.reset()\n",
    "#ampl.read(model_path)\n",
    "#ampl.readData(largerData_path)\n",
    "ampl.read('/Users/chrislandgrebe/Desktop/PROJECT/ieor-169-project/src/q1/q1.mod')\n",
    "ampl.readData('/Users/chrislandgrebe/Desktop/PROJECT/ieor-169-project/data/input/larger.dat')\n",
    "ampl.solve()\n",
    "x = ampl.getVariable('x')"
   ]
  },
  {
   "cell_type": "code",
   "execution_count": 127,
   "metadata": {
    "ExecuteTime": {
     "end_time": "2020-05-01T18:54:17.064144Z",
     "start_time": "2020-05-01T18:54:17.046141Z"
    }
   },
   "outputs": [
    {
     "data": {
      "text/html": [
       "<div>\n",
       "<style scoped>\n",
       "    .dataframe tbody tr th:only-of-type {\n",
       "        vertical-align: middle;\n",
       "    }\n",
       "\n",
       "    .dataframe tbody tr th {\n",
       "        vertical-align: top;\n",
       "    }\n",
       "\n",
       "    .dataframe thead th {\n",
       "        text-align: right;\n",
       "    }\n",
       "</style>\n",
       "<table border=\"1\" class=\"dataframe\">\n",
       "  <thead>\n",
       "    <tr style=\"text-align: right;\">\n",
       "      <th></th>\n",
       "      <th>x.val</th>\n",
       "    </tr>\n",
       "  </thead>\n",
       "  <tbody>\n",
       "    <tr>\n",
       "      <th>(1.0, 1.0)</th>\n",
       "      <td>1.0</td>\n",
       "    </tr>\n",
       "    <tr>\n",
       "      <th>(1.0, 2.0)</th>\n",
       "      <td>0.0</td>\n",
       "    </tr>\n",
       "    <tr>\n",
       "      <th>(1.0, 3.0)</th>\n",
       "      <td>0.0</td>\n",
       "    </tr>\n",
       "    <tr>\n",
       "      <th>(1.0, 4.0)</th>\n",
       "      <td>0.0</td>\n",
       "    </tr>\n",
       "    <tr>\n",
       "      <th>(1.0, 5.0)</th>\n",
       "      <td>0.0</td>\n",
       "    </tr>\n",
       "    <tr>\n",
       "      <th>(2.0, 1.0)</th>\n",
       "      <td>0.0</td>\n",
       "    </tr>\n",
       "    <tr>\n",
       "      <th>(2.0, 2.0)</th>\n",
       "      <td>1.0</td>\n",
       "    </tr>\n",
       "    <tr>\n",
       "      <th>(2.0, 3.0)</th>\n",
       "      <td>0.0</td>\n",
       "    </tr>\n",
       "    <tr>\n",
       "      <th>(2.0, 4.0)</th>\n",
       "      <td>0.0</td>\n",
       "    </tr>\n",
       "    <tr>\n",
       "      <th>(2.0, 5.0)</th>\n",
       "      <td>0.0</td>\n",
       "    </tr>\n",
       "    <tr>\n",
       "      <th>(3.0, 1.0)</th>\n",
       "      <td>0.0</td>\n",
       "    </tr>\n",
       "    <tr>\n",
       "      <th>(3.0, 2.0)</th>\n",
       "      <td>0.0</td>\n",
       "    </tr>\n",
       "    <tr>\n",
       "      <th>(3.0, 3.0)</th>\n",
       "      <td>1.0</td>\n",
       "    </tr>\n",
       "    <tr>\n",
       "      <th>(3.0, 4.0)</th>\n",
       "      <td>0.0</td>\n",
       "    </tr>\n",
       "    <tr>\n",
       "      <th>(3.0, 5.0)</th>\n",
       "      <td>1.0</td>\n",
       "    </tr>\n",
       "    <tr>\n",
       "      <th>(4.0, 1.0)</th>\n",
       "      <td>0.0</td>\n",
       "    </tr>\n",
       "    <tr>\n",
       "      <th>(4.0, 2.0)</th>\n",
       "      <td>0.0</td>\n",
       "    </tr>\n",
       "    <tr>\n",
       "      <th>(4.0, 3.0)</th>\n",
       "      <td>0.0</td>\n",
       "    </tr>\n",
       "    <tr>\n",
       "      <th>(4.0, 4.0)</th>\n",
       "      <td>1.0</td>\n",
       "    </tr>\n",
       "    <tr>\n",
       "      <th>(4.0, 5.0)</th>\n",
       "      <td>0.0</td>\n",
       "    </tr>\n",
       "  </tbody>\n",
       "</table>\n",
       "</div>"
      ],
      "text/plain": [
       "            x.val\n",
       "(1.0, 1.0)    1.0\n",
       "(1.0, 2.0)    0.0\n",
       "(1.0, 3.0)    0.0\n",
       "(1.0, 4.0)    0.0\n",
       "(1.0, 5.0)    0.0\n",
       "(2.0, 1.0)    0.0\n",
       "(2.0, 2.0)    1.0\n",
       "(2.0, 3.0)    0.0\n",
       "(2.0, 4.0)    0.0\n",
       "(2.0, 5.0)    0.0\n",
       "(3.0, 1.0)    0.0\n",
       "(3.0, 2.0)    0.0\n",
       "(3.0, 3.0)    1.0\n",
       "(3.0, 4.0)    0.0\n",
       "(3.0, 5.0)    1.0\n",
       "(4.0, 1.0)    0.0\n",
       "(4.0, 2.0)    0.0\n",
       "(4.0, 3.0)    0.0\n",
       "(4.0, 4.0)    1.0\n",
       "(4.0, 5.0)    0.0"
      ]
     },
     "execution_count": 127,
     "metadata": {},
     "output_type": "execute_result"
    }
   ],
   "source": [
    "dic = x.getValues().toDict()\n",
    "x.getValues().toPandas()\n",
    "    "
   ]
  },
  {
   "cell_type": "code",
   "execution_count": 92,
   "metadata": {
    "ExecuteTime": {
     "end_time": "2020-05-01T18:43:39.897466Z",
     "start_time": "2020-05-01T18:43:39.892057Z"
    }
   },
   "outputs": [
    {
     "name": "stdout",
     "output_type": "stream",
     "text": [
      "   index0       index1    |    x.val    \n",
      "     1              1       |      1      \n",
      "     1              2       |      0      \n",
      "     1              3       |      0      \n",
      "     1              4       |      0      \n",
      "     1              5       |      0      \n",
      "     2              1       |      0      \n",
      "     2              2       |      1      \n",
      "     2              3       |      0      \n",
      "     2              4       |      0      \n",
      "     2              5       |      0      \n",
      "     3              1       |      0      \n",
      "     3              2       |      0      \n",
      "     3              3       |      1      \n",
      "     3              4       |      0      \n",
      "     3              5       |      1      \n",
      "     4              1       |      0      \n",
      "     4              2       |      0      \n",
      "     4              3       |      0      \n",
      "     4              4       |      1      \n",
      "     4              5       |      0      \n",
      "\n"
     ]
    }
   ],
   "source": [
    "print(x.getValues())"
   ]
  },
  {
   "cell_type": "code",
   "execution_count": 72,
   "metadata": {
    "ExecuteTime": {
     "end_time": "2020-05-01T18:29:28.555138Z",
     "start_time": "2020-05-01T18:29:28.535013Z"
    }
   },
   "outputs": [
    {
     "data": {
      "text/html": [
       "<div>\n",
       "<style scoped>\n",
       "    .dataframe tbody tr th:only-of-type {\n",
       "        vertical-align: middle;\n",
       "    }\n",
       "\n",
       "    .dataframe tbody tr th {\n",
       "        vertical-align: top;\n",
       "    }\n",
       "\n",
       "    .dataframe thead th {\n",
       "        text-align: right;\n",
       "    }\n",
       "</style>\n",
       "<table border=\"1\" class=\"dataframe\">\n",
       "  <thead>\n",
       "    <tr style=\"text-align: right;\">\n",
       "      <th></th>\n",
       "      <th>x.val</th>\n",
       "    </tr>\n",
       "  </thead>\n",
       "  <tbody>\n",
       "    <tr>\n",
       "      <th>(1.0, 1.0)</th>\n",
       "      <td>1.0</td>\n",
       "    </tr>\n",
       "    <tr>\n",
       "      <th>(1.0, 2.0)</th>\n",
       "      <td>0.0</td>\n",
       "    </tr>\n",
       "    <tr>\n",
       "      <th>(1.0, 3.0)</th>\n",
       "      <td>0.0</td>\n",
       "    </tr>\n",
       "    <tr>\n",
       "      <th>(1.0, 4.0)</th>\n",
       "      <td>0.0</td>\n",
       "    </tr>\n",
       "    <tr>\n",
       "      <th>(1.0, 5.0)</th>\n",
       "      <td>0.0</td>\n",
       "    </tr>\n",
       "    <tr>\n",
       "      <th>(2.0, 1.0)</th>\n",
       "      <td>0.0</td>\n",
       "    </tr>\n",
       "    <tr>\n",
       "      <th>(2.0, 2.0)</th>\n",
       "      <td>1.0</td>\n",
       "    </tr>\n",
       "    <tr>\n",
       "      <th>(2.0, 3.0)</th>\n",
       "      <td>0.0</td>\n",
       "    </tr>\n",
       "    <tr>\n",
       "      <th>(2.0, 4.0)</th>\n",
       "      <td>0.0</td>\n",
       "    </tr>\n",
       "    <tr>\n",
       "      <th>(2.0, 5.0)</th>\n",
       "      <td>0.0</td>\n",
       "    </tr>\n",
       "    <tr>\n",
       "      <th>(3.0, 1.0)</th>\n",
       "      <td>0.0</td>\n",
       "    </tr>\n",
       "    <tr>\n",
       "      <th>(3.0, 2.0)</th>\n",
       "      <td>0.0</td>\n",
       "    </tr>\n",
       "    <tr>\n",
       "      <th>(3.0, 3.0)</th>\n",
       "      <td>1.0</td>\n",
       "    </tr>\n",
       "    <tr>\n",
       "      <th>(3.0, 4.0)</th>\n",
       "      <td>0.0</td>\n",
       "    </tr>\n",
       "    <tr>\n",
       "      <th>(3.0, 5.0)</th>\n",
       "      <td>1.0</td>\n",
       "    </tr>\n",
       "    <tr>\n",
       "      <th>(4.0, 1.0)</th>\n",
       "      <td>0.0</td>\n",
       "    </tr>\n",
       "    <tr>\n",
       "      <th>(4.0, 2.0)</th>\n",
       "      <td>0.0</td>\n",
       "    </tr>\n",
       "    <tr>\n",
       "      <th>(4.0, 3.0)</th>\n",
       "      <td>0.0</td>\n",
       "    </tr>\n",
       "    <tr>\n",
       "      <th>(4.0, 4.0)</th>\n",
       "      <td>1.0</td>\n",
       "    </tr>\n",
       "    <tr>\n",
       "      <th>(4.0, 5.0)</th>\n",
       "      <td>0.0</td>\n",
       "    </tr>\n",
       "  </tbody>\n",
       "</table>\n",
       "</div>"
      ],
      "text/plain": [
       "            x.val\n",
       "(1.0, 1.0)    1.0\n",
       "(1.0, 2.0)    0.0\n",
       "(1.0, 3.0)    0.0\n",
       "(1.0, 4.0)    0.0\n",
       "(1.0, 5.0)    0.0\n",
       "(2.0, 1.0)    0.0\n",
       "(2.0, 2.0)    1.0\n",
       "(2.0, 3.0)    0.0\n",
       "(2.0, 4.0)    0.0\n",
       "(2.0, 5.0)    0.0\n",
       "(3.0, 1.0)    0.0\n",
       "(3.0, 2.0)    0.0\n",
       "(3.0, 3.0)    1.0\n",
       "(3.0, 4.0)    0.0\n",
       "(3.0, 5.0)    1.0\n",
       "(4.0, 1.0)    0.0\n",
       "(4.0, 2.0)    0.0\n",
       "(4.0, 3.0)    0.0\n",
       "(4.0, 4.0)    1.0\n",
       "(4.0, 5.0)    0.0"
      ]
     },
     "execution_count": 72,
     "metadata": {},
     "output_type": "execute_result"
    }
   ],
   "source": [
    "ampl.getVariable('x').getValues().toPandas()"
   ]
  },
  {
   "cell_type": "code",
   "execution_count": 17,
   "metadata": {
    "ExecuteTime": {
     "end_time": "2020-05-01T17:59:55.344072Z",
     "start_time": "2020-05-01T17:59:55.339871Z"
    }
   },
   "outputs": [
    {
     "data": {
      "text/plain": [
       "<amplpy.parameter.Parameter at 0x110a94fa0>"
      ]
     },
     "execution_count": 17,
     "metadata": {},
     "output_type": "execute_result"
    }
   ],
   "source": [
    "ampl.getParameter('v')#.getValues().toPandas()\n",
    "\n"
   ]
  },
  {
   "cell_type": "code",
   "execution_count": 67,
   "metadata": {
    "ExecuteTime": {
     "end_time": "2020-05-01T18:29:06.636067Z",
     "start_time": "2020-05-01T18:29:06.632034Z"
    },
    "scrolled": true
   },
   "outputs": [
    {
     "name": "stdout",
     "output_type": "stream",
     "text": [
      "0.02\n"
     ]
    }
   ],
   "source": [
    "z = ampl.getObjective(\"maxPEnvyFree\")\n",
    "print(z.value())"
   ]
  },
  {
   "cell_type": "code",
   "execution_count": 66,
   "metadata": {
    "ExecuteTime": {
     "end_time": "2020-05-01T18:29:02.948652Z",
     "start_time": "2020-05-01T18:29:02.918750Z"
    }
   },
   "outputs": [
    {
     "name": "stdout",
     "output_type": "stream",
     "text": [
      "CPLEX 12.9.0.0: timelimit=900\n",
      "getNumIndices:  2\n",
      "getNumCols:  3\n",
      "getNumCols:  3\n"
     ]
    }
   ],
   "source": [
    "ampl.reset()\n",
    "#ampl.read(model_path)\n",
    "#ampl.readData(largerData_path)\n",
    "ampl.read('/Users/chrislandgrebe/Desktop/PROJECT/ieor-169-project/src/q1/q1.mod')\n",
    "ampl.readData('/Users/chrislandgrebe/Desktop/PROJECT/ieor-169-project/data/input/larger.dat')\n",
    "ampl.solve()\n",
    "x = ampl.getVariable('x').getValues()#.toList()\n",
    "#for item in x:\n",
    "#    print \n",
    "print(\"getNumIndices: \",x.getNumIndices())\n",
    "print(\"getNumCols: \",x.getNumCols())\n",
    "print(\"getNumCols: \",x.getNumCols())\n"
   ]
  },
  {
   "cell_type": "code",
   "execution_count": 53,
   "metadata": {
    "ExecuteTime": {
     "end_time": "2020-05-01T18:24:32.130983Z",
     "start_time": "2020-05-01T18:24:32.126462Z"
    }
   },
   "outputs": [
    {
     "data": {
      "text/plain": [
       "amplpy.dataframe.DataFrame"
      ]
     },
     "execution_count": 53,
     "metadata": {},
     "output_type": "execute_result"
    }
   ],
   "source": [
    "x"
   ]
  },
  {
   "cell_type": "code",
   "execution_count": 35,
   "metadata": {
    "ExecuteTime": {
     "end_time": "2020-05-01T18:14:24.159097Z",
     "start_time": "2020-05-01T18:14:24.155338Z"
    }
   },
   "outputs": [
    {
     "name": "stdout",
     "output_type": "stream",
     "text": [
      "v [*,*] (tr)\n",
      ":    1      2      3      4      :=\n",
      "1   0.3    0.1    0.15   0.05\n",
      "2   0.2    0.2    0.05   0.15\n",
      "3   0      0.1    0.1    0.08\n",
      "4   0.03   0.06   0.1    0.2\n",
      "5   0.07   0.03   0.03   0.05\n",
      ";\n",
      "\n",
      "x [*,*] (tr)\n",
      ":   1   2   3   4    :=\n",
      "1   1   0   0   0\n",
      "2   0   1   0   0\n",
      "3   0   0   1   0\n",
      "4   0   0   0   1\n",
      "5   0   0   1   0\n",
      ";\n",
      "\n"
     ]
    }
   ],
   "source": [
    "ampl.eval('''display v;display x;''')"
   ]
  },
  {
   "cell_type": "code",
   "execution_count": 96,
   "metadata": {
    "ExecuteTime": {
     "end_time": "2020-05-01T17:12:03.636169Z",
     "start_time": "2020-05-01T17:12:03.629867Z"
    }
   },
   "outputs": [
    {
     "data": {
      "text/plain": [
       "mappingproxy({'__module__': 'amplpy.dataframe',\n",
       "              '__doc__': '\\n    A DataFrame object, used to communicate data to and from the AMPL entities.\\n\\n    An object of this class can be used to do the following tasks:\\n    - Assign values to AMPL entities (once the DataFrame is populated, use\\n    :func:`~amplpy.AMPL.setData` to assign its values to the modelling entities\\n    in its columns)\\n    - Get values from AMPL, decoupling the values from the AMPL entities they\\n    originate via :func:`~amplpy.Entity.getValues`.\\n\\n    A DataFrame object can be created in various ways.\\n\\n    - Create a skeleton by specifiying manually the indexing columns and the\\n      column headers.\\n    - Get values from AMPL, decoupling the values from the AMPL entities they\\n      originate from (via :func:`~amplpy.Entity.getValues`).\\n\\n    Populating a DataFrame object can be done adding row by row to a\\n    pre-existing skeleton via :func:`~amplpy.DataFrame.addRow`, setting whole\\n    columns of a pre-existing skeleton via :func:`~amplpy.DataFrame.setColumn`\\n    or adding columns (including indexing columns) via\\n    :func:`~amplpy.DataFrame.addColumn`.\\n\\n    Modifying a DataFrame object can be done via\\n    :func:`~amplpy.DataFrame.setColumn` or, item by item, via\\n    :func:`~amplpy.DataFrame.setValue`.\\n\\n    Accessing data in a DataFrame can be done row by row using\\n    :func:`~amplpy.DataFrame.getRow` or by column via\\n    :func:`~amplpy.DataFrame.getColumn`.\\n    ',\n",
       "              '__init__': <function amplpy.dataframe.DataFrame.__init__(self, index, columns=(), **kwargs)>,\n",
       "              '__iter__': <function amplpy.dataframe.DataFrame.__iter__(self)>,\n",
       "              'getNumCols': <function amplpy.dataframe.DataFrame.getNumCols(self)>,\n",
       "              'getNumRows': <function amplpy.dataframe.DataFrame.getNumRows(self)>,\n",
       "              'getNumIndices': <function amplpy.dataframe.DataFrame.getNumIndices(self)>,\n",
       "              'addRow': <function amplpy.dataframe.DataFrame.addRow(self, *value)>,\n",
       "              'addColumn': <function amplpy.dataframe.DataFrame.addColumn(self, header, values=[])>,\n",
       "              'getColumn': <function amplpy.dataframe.DataFrame.getColumn(self, header)>,\n",
       "              'setColumn': <function amplpy.dataframe.DataFrame.setColumn(self, header, values)>,\n",
       "              'getRow': <function amplpy.dataframe.DataFrame.getRow(self, key)>,\n",
       "              'getRowByIndex': <function amplpy.dataframe.DataFrame.getRowByIndex(self, index)>,\n",
       "              'getHeaders': <function amplpy.dataframe.DataFrame.getHeaders(self)>,\n",
       "              'setValues': <function amplpy.dataframe.DataFrame.setValues(self, values)>,\n",
       "              'toDict': <function amplpy.dataframe.DataFrame.toDict(self)>,\n",
       "              'toList': <function amplpy.dataframe.DataFrame.toList(self)>,\n",
       "              'toPandas': <function amplpy.dataframe.DataFrame.toPandas(self)>,\n",
       "              'fromDict': <classmethod at 0x10f1c1820>,\n",
       "              'fromPandas': <classmethod at 0x10f1c1850>,\n",
       "              'fromNumpy': <classmethod at 0x10f1c1880>,\n",
       "              '_fromDataFrameRef': <classmethod at 0x10f1c18e0>})"
      ]
     },
     "execution_count": 96,
     "metadata": {},
     "output_type": "execute_result"
    }
   ],
   "source": [
    "vars(amplpy.dataframe.DataFrame)"
   ]
  },
  {
   "cell_type": "code",
   "execution_count": null,
   "metadata": {},
   "outputs": [],
   "source": []
  },
  {
   "cell_type": "code",
   "execution_count": 114,
   "metadata": {
    "ExecuteTime": {
     "end_time": "2020-05-01T17:29:42.535837Z",
     "start_time": "2020-05-01T17:29:42.530549Z"
    }
   },
   "outputs": [
    {
     "data": {
      "text/plain": [
       "amplpy.dataframe.DataFrame"
      ]
     },
     "execution_count": 114,
     "metadata": {},
     "output_type": "execute_result"
    }
   ],
   "source": [
    "df = DataFrame('NUTR')\n",
    "type(df)"
   ]
  },
  {
   "cell_type": "code",
   "execution_count": null,
   "metadata": {},
   "outputs": [],
   "source": []
  },
  {
   "cell_type": "code",
   "execution_count": null,
   "metadata": {},
   "outputs": [],
   "source": []
  },
  {
   "cell_type": "code",
   "execution_count": null,
   "metadata": {},
   "outputs": [],
   "source": []
  },
  {
   "cell_type": "code",
   "execution_count": null,
   "metadata": {
    "ExecuteTime": {
     "end_time": "2020-05-01T17:27:06.530136Z",
     "start_time": "2020-05-01T17:27:06.524122Z"
    }
   },
   "outputs": [],
   "source": []
  },
  {
   "cell_type": "code",
   "execution_count": 4,
   "metadata": {
    "ExecuteTime": {
     "end_time": "2020-05-01T17:34:09.565104Z",
     "start_time": "2020-05-01T17:34:09.328119Z"
    }
   },
   "outputs": [
    {
     "ename": "RuntimeError",
     "evalue": "file -\nline 1 offset 17\nFOOD is not a set\n",
     "output_type": "error",
     "traceback": [
      "\u001b[0;31m---------------------------------------------------------------------------\u001b[0m",
      "\u001b[0;31mRuntimeError\u001b[0m                              Traceback (most recent call last)",
      "\u001b[0;32m<ipython-input-4-ef888598b5fc>\u001b[0m in \u001b[0;36m<module>\u001b[0;34m\u001b[0m\n\u001b[1;32m     10\u001b[0m \u001b[0mdf\u001b[0m\u001b[0;34m.\u001b[0m\u001b[0maddColumn\u001b[0m\u001b[0;34m(\u001b[0m\u001b[0;34m'f_min'\u001b[0m\u001b[0;34m,\u001b[0m \u001b[0mfmin\u001b[0m\u001b[0;34m)\u001b[0m\u001b[0;34m\u001b[0m\u001b[0;34m\u001b[0m\u001b[0m\n\u001b[1;32m     11\u001b[0m \u001b[0mdf\u001b[0m\u001b[0;34m.\u001b[0m\u001b[0maddColumn\u001b[0m\u001b[0;34m(\u001b[0m\u001b[0;34m'f_max'\u001b[0m\u001b[0;34m,\u001b[0m \u001b[0mfmax\u001b[0m\u001b[0;34m)\u001b[0m\u001b[0;34m\u001b[0m\u001b[0;34m\u001b[0m\u001b[0m\n\u001b[0;32m---> 12\u001b[0;31m \u001b[0mampl\u001b[0m\u001b[0;34m.\u001b[0m\u001b[0msetData\u001b[0m\u001b[0;34m(\u001b[0m\u001b[0mdf\u001b[0m\u001b[0;34m,\u001b[0m \u001b[0;34m'FOOD'\u001b[0m\u001b[0;34m)\u001b[0m\u001b[0;34m\u001b[0m\u001b[0;34m\u001b[0m\u001b[0m\n\u001b[0m\u001b[1;32m     13\u001b[0m \u001b[0;34m\u001b[0m\u001b[0m\n\u001b[1;32m     14\u001b[0m \u001b[0mnutrients\u001b[0m \u001b[0;34m=\u001b[0m \u001b[0;34m[\u001b[0m\u001b[0;34m'A'\u001b[0m\u001b[0;34m,\u001b[0m \u001b[0;34m'C'\u001b[0m\u001b[0;34m,\u001b[0m \u001b[0;34m'B1'\u001b[0m\u001b[0;34m,\u001b[0m \u001b[0;34m'B2'\u001b[0m\u001b[0;34m,\u001b[0m \u001b[0;34m'NA'\u001b[0m\u001b[0;34m,\u001b[0m \u001b[0;34m'CAL'\u001b[0m\u001b[0;34m]\u001b[0m\u001b[0;34m\u001b[0m\u001b[0;34m\u001b[0m\u001b[0m\n",
      "\u001b[0;32m/Applications/anaconda3/envs/ieor-169-project/lib/python3.8/site-packages/amplpy/ampl.py\u001b[0m in \u001b[0;36msetData\u001b[0;34m(self, data, setName)\u001b[0m\n\u001b[1;32m    590\u001b[0m             \u001b[0mself\u001b[0m\u001b[0;34m.\u001b[0m\u001b[0m_impl\u001b[0m\u001b[0;34m.\u001b[0m\u001b[0msetData\u001b[0m\u001b[0;34m(\u001b[0m\u001b[0mdata\u001b[0m\u001b[0;34m.\u001b[0m\u001b[0m_impl\u001b[0m\u001b[0;34m)\u001b[0m\u001b[0;34m\u001b[0m\u001b[0;34m\u001b[0m\u001b[0m\n\u001b[1;32m    591\u001b[0m         \u001b[0;32melse\u001b[0m\u001b[0;34m:\u001b[0m\u001b[0;34m\u001b[0m\u001b[0;34m\u001b[0m\u001b[0m\n\u001b[0;32m--> 592\u001b[0;31m             \u001b[0mself\u001b[0m\u001b[0;34m.\u001b[0m\u001b[0m_impl\u001b[0m\u001b[0;34m.\u001b[0m\u001b[0msetData\u001b[0m\u001b[0;34m(\u001b[0m\u001b[0mdata\u001b[0m\u001b[0;34m.\u001b[0m\u001b[0m_impl\u001b[0m\u001b[0;34m,\u001b[0m \u001b[0msetName\u001b[0m\u001b[0;34m)\u001b[0m\u001b[0;34m\u001b[0m\u001b[0;34m\u001b[0m\u001b[0m\n\u001b[0m\u001b[1;32m    593\u001b[0m \u001b[0;34m\u001b[0m\u001b[0m\n\u001b[1;32m    594\u001b[0m     \u001b[0;32mdef\u001b[0m \u001b[0mreadTable\u001b[0m\u001b[0;34m(\u001b[0m\u001b[0mself\u001b[0m\u001b[0;34m,\u001b[0m \u001b[0mtableName\u001b[0m\u001b[0;34m)\u001b[0m\u001b[0;34m:\u001b[0m\u001b[0;34m\u001b[0m\u001b[0;34m\u001b[0m\u001b[0m\n",
      "\u001b[0;31mRuntimeError\u001b[0m: file -\nline 1 offset 17\nFOOD is not a set\n"
     ]
    }
   ],
   "source": [
    "foods = ['BEEF', 'CHK', 'FISH', 'HAM', 'MCH', 'MTL', 'SPG', 'TUR']\n",
    "costs = [3.59, 2.59, 2.29, 2.89, 1.89, 1.99, 1.99, 2.49]\n",
    "\n",
    "fmin = [2, 2, 2, 2, 2, 2, 2, 2]\n",
    "fmax = [10, 10, 10, 10, 10, 10, 10, 10]\n",
    "\n",
    "df = DataFrame('FOOD')\n",
    "df.setColumn('FOOD', foods)\n",
    "df.addColumn('cost', costs)\n",
    "df.addColumn('f_min', fmin)\n",
    "df.addColumn('f_max', fmax)\n",
    "ampl.setData(df, 'FOOD')\n",
    "\n",
    "nutrients = ['A', 'C', 'B1', 'B2', 'NA', 'CAL']\n",
    "nmin = [700, 700, 700, 700, 0, 16000]\n",
    "nmax = [20000, 20000, 20000, 20000, 50000, 24000]\n",
    "\n",
    "df = DataFrame('NUTR')\n",
    "df.setColumn('NUTR', nutrients)\n",
    "df.addColumn('n_min', nmin)\n",
    "df.addColumn('n_max', nmax)\n",
    "ampl.setData(df, 'NUTR')\n",
    "\n",
    "amounts = [\n",
    "    [ 60,    8,   8,  40,   15,  70,   25,   60],\n",
    "    [ 20,    0,  10,  40,   35,  30,   50,   20],\n",
    "    [ 10,   20,  15,  35,   15,  15,   25,   15],\n",
    "    [ 15,   20,  10,  10,   15,  15,   15,   10],\n",
    "    [928, 2180, 945, 278, 1182, 896, 1329, 1397],\n",
    "    [295,  770, 440, 430,  315, 400,  379,  450]\n",
    "]\n",
    "\n",
    "df = DataFrame(('NUTR', 'FOOD'), 'amt')\n",
    "df.setValues({\n",
    "    (nutrient, food): amounts[i][j]\n",
    "    for i, nutrient in enumerate(nutrients)\n",
    "    for j, food in enumerate(foods)\n",
    "})\n",
    "ampl.setData(df)\n",
    "\n",
    "ampl.solve()"
   ]
  },
  {
   "cell_type": "code",
   "execution_count": null,
   "metadata": {},
   "outputs": [],
   "source": []
  }
 ],
 "metadata": {
  "kernelspec": {
   "display_name": "Python 3",
   "language": "python",
   "name": "python3"
  },
  "language_info": {
   "codemirror_mode": {
    "name": "ipython",
    "version": 3
   },
   "file_extension": ".py",
   "mimetype": "text/x-python",
   "name": "python",
   "nbconvert_exporter": "python",
   "pygments_lexer": "ipython3",
   "version": "3.8.2"
  },
  "toc": {
   "base_numbering": 1,
   "nav_menu": {},
   "number_sections": true,
   "sideBar": true,
   "skip_h1_title": false,
   "title_cell": "Table of Contents",
   "title_sidebar": "Contents",
   "toc_cell": false,
   "toc_position": {},
   "toc_section_display": true,
   "toc_window_display": false
  }
 },
 "nbformat": 4,
 "nbformat_minor": 4
}
